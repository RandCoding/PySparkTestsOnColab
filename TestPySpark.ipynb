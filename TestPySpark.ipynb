{
  "nbformat": 4,
  "nbformat_minor": 0,
  "metadata": {
    "colab": {
      "name": "spark.ipynb",
      "provenance": [],
      "collapsed_sections": [],
      "toc_visible": true
    },
    "kernelspec": {
      "name": "python3",
      "display_name": "Python 3"
    }
  },
  "cells": [
    {
      "cell_type": "code",
      "metadata": {
        "id": "eRC-AZq_EIXR",
        "colab_type": "code",
        "colab": {}
      },
      "source": [
        "!wget -q http://mirror.its.dal.ca/apache/spark/spark-2.3.4/spark-2.3.4-bin-hadoop2.7.tgz "
      ],
      "execution_count": 0,
      "outputs": []
    },
    {
      "cell_type": "code",
      "metadata": {
        "id": "dq-NPEouEn8w",
        "colab_type": "code",
        "outputId": "d5bd3e9a-095b-4f2f-f30a-348ea00ca2dd",
        "colab": {
          "base_uri": "https://localhost:8080/",
          "height": 34
        }
      },
      "source": [
        "!ls /content/\n",
        "!tar xf /content/spark-2.3.4-bin-hadoop2.7.tgz\n",
        "!pip -qq install findspark\n",
        "!pip -qq install numpy\n",
        "!pip -qq install pandas\n",
        "!pip -qq install matplotlib"
      ],
      "execution_count": 0,
      "outputs": [
        {
          "output_type": "stream",
          "text": [
            "sample_data  spark-2.3.4-bin-hadoop2.7.tgz\n"
          ],
          "name": "stdout"
        }
      ]
    },
    {
      "cell_type": "code",
      "metadata": {
        "id": "PEq6vJOuErtG",
        "colab_type": "code",
        "outputId": "c8e418d1-d13a-409a-cd86-64bf32a1c167",
        "colab": {
          "base_uri": "https://localhost:8080/",
          "height": 54
        }
      },
      "source": [
        "import os\n",
        "os.environ[\"JAVA_HOME\"] = \"/usr/lib/jvm/java-8-openjdk-amd64\"\n",
        "os.environ[\"SPARK_HOME\"] = \"/content/spark-2.3.4-bin-hadoop2.7/\"\n",
        "print (os.listdir('/content/spark-2.3.4-bin-hadoop2.7/'))\n",
        "\n",
        "import findspark\n",
        "findspark.init()"
      ],
      "execution_count": 0,
      "outputs": [
        {
          "output_type": "stream",
          "text": [
            "['bin', 'sbin', 'kubernetes', 'yarn', 'python', 'data', 'licenses', 'NOTICE', 'jars', 'examples', 'conf', 'LICENSE', 'R', 'README.md', 'RELEASE']\n"
          ],
          "name": "stdout"
        }
      ]
    },
    {
      "cell_type": "code",
      "metadata": {
        "id": "tfUWIVWdEsJ0",
        "colab_type": "code",
        "colab": {}
      },
      "source": [
        ""
      ],
      "execution_count": 0,
      "outputs": []
    },
    {
      "cell_type": "code",
      "metadata": {
        "id": "tuk472nDEskc",
        "colab_type": "code",
        "colab": {}
      },
      "source": [
        "from google.colab import drive\n",
        "drive.mount('/content/drive')"
      ],
      "execution_count": 0,
      "outputs": []
    },
    {
      "cell_type": "code",
      "metadata": {
        "id": "PDByH5JkGBhV",
        "colab_type": "code",
        "outputId": "fa43cfd6-56da-46fc-8986-c10c7a742bfc",
        "colab": {
          "base_uri": "https://localhost:8080/",
          "height": 34
        }
      },
      "source": [
        "!ls /content/drive/My\\ Drive/bigFiles"
      ],
      "execution_count": 0,
      "outputs": [
        {
          "output_type": "stream",
          "text": [
            "AOL-01.txt  AOL_README.txt  author-large.txt\n"
          ],
          "name": "stdout"
        }
      ]
    },
    {
      "cell_type": "code",
      "metadata": {
        "id": "7FOfhj3ZGCAw",
        "colab_type": "code",
        "colab": {}
      },
      "source": [
        "cp -r /content/drive/My\\ Drive/bigFiles /content/"
      ],
      "execution_count": 0,
      "outputs": []
    },
    {
      "cell_type": "code",
      "metadata": {
        "id": "d8FfKaMpGCKa",
        "colab_type": "code",
        "colab": {}
      },
      "source": [
        "from pyspark.sql import SparkSession\n",
        "spark = SparkSession.builder \\\n",
        "    .master(\"local[*]\") \\\n",
        "    .appName(\"Learning_Spark\") \\\n",
        "    .getOrCreate()"
      ],
      "execution_count": 0,
      "outputs": []
    },
    {
      "cell_type": "code",
      "metadata": {
        "id": "eEKsRLu_GCTF",
        "colab_type": "code",
        "outputId": "93d097b2-f6b2-46cc-f3aa-96f491c56518",
        "colab": {
          "base_uri": "https://localhost:8080/",
          "height": 34
        }
      },
      "source": [
        "from pyspark.sql.types import StructType, StructField, IntegerType, StringType\n",
        "\n",
        "schema = StructType([\n",
        "    StructField(\"Author\", StringType(), True),\n",
        "    StructField(\"Field\", StringType(), True),\n",
        "    StructField(\"BookName\", StringType(), True),\n",
        "    StructField(\"Year\", IntegerType(), True)])\n",
        "\n",
        "\n",
        "data = spark.read.csv('bigFiles/author-large.txt',inferSchema=True, header=False,sep='\\t',schema=schema)\n",
        "data.count(), len(data.columns)"
      ],
      "execution_count": 0,
      "outputs": [
        {
          "output_type": "execute_result",
          "data": {
            "text/plain": [
              "(2225370, 4)"
            ]
          },
          "metadata": {
            "tags": []
          },
          "execution_count": 8
        }
      ]
    },
    {
      "cell_type": "code",
      "metadata": {
        "id": "kjPaTD_Fjyzm",
        "colab_type": "code",
        "outputId": "177e9c76-72bf-45d9-b750-6ebde1696a9e",
        "colab": {
          "base_uri": "https://localhost:8080/",
          "height": 34
        }
      },
      "source": [
        "rdd = spark.sparkContext.textFile('bigFiles/AOL_README.txt')\n",
        "\n",
        "def splitLine(line):\n",
        "  return line.split(\" \")\n",
        "\n",
        "def StopWords(listWords):\n",
        "  stopWords = ['this','is','of',\"\",\"for\"]\n",
        "  for word in listWords:\n",
        "    if word and word.casefold() in stopWords:\n",
        "      listWords.remove(word)\n",
        "  return listWords\n",
        "\n",
        "def StopWords2(word):\n",
        "  stopWords = ['this','is','of',\"\",\"for\"]\n",
        "  return word if word and word.casefold() not in stopWords else ''\n",
        "\n",
        "rdd2 = rdd.flatMap(splitLine)\n",
        "\n",
        "rdd3 = rdd2.map(StopWords2)\n",
        "\n",
        "rdd3.filter(lambda x: x not in '' and '--' not in x).distinct().take(6)\n",
        "\n"
      ],
      "execution_count": 0,
      "outputs": [
        {
          "output_type": "execute_result",
          "data": {
            "text/plain": [
              "['500k', 'User', 'Session', 'Collection', 'collection', 'NON-COMMERCIAL']"
            ]
          },
          "metadata": {
            "tags": []
          },
          "execution_count": 47
        }
      ]
    },
    {
      "cell_type": "code",
      "metadata": {
        "id": "nREvqteWGCa3",
        "colab_type": "code",
        "outputId": "9979558f-0965-4538-eccf-3572d99f03ae",
        "colab": {
          "base_uri": "https://localhost:8080/",
          "height": 306
        }
      },
      "source": [
        "data.show(5)\n",
        "data.printSchema()"
      ],
      "execution_count": 0,
      "outputs": [
        {
          "output_type": "stream",
          "text": [
            "+------------------+--------------------+--------------------+----+\n",
            "|            Author|               Field|            BookName|Year|\n",
            "+------------------+--------------------+--------------------+----+\n",
            "| Jurgen Annevelink|Modern Database S...|Object SQL - A La...|1995|\n",
            "|       Rafiul Ahad|Modern Database S...|Object SQL - A La...|1995|\n",
            "|    Amelia Carlson|Modern Database S...|Object SQL - A La...|1995|\n",
            "| Daniel H. Fishman|Modern Database S...|Object SQL - A La...|1995|\n",
            "|Michael L. Heytens|Modern Database S...|Object SQL - A La...|1995|\n",
            "+------------------+--------------------+--------------------+----+\n",
            "only showing top 5 rows\n",
            "\n",
            "root\n",
            " |-- Author: string (nullable = true)\n",
            " |-- Field: string (nullable = true)\n",
            " |-- BookName: string (nullable = true)\n",
            " |-- Year: integer (nullable = true)\n",
            "\n"
          ],
          "name": "stdout"
        }
      ]
    },
    {
      "cell_type": "code",
      "metadata": {
        "id": "uPaUe4RNGCjK",
        "colab_type": "code",
        "outputId": "da1b321f-75de-4c5c-cc45-da1400898eef",
        "colab": {
          "base_uri": "https://localhost:8080/",
          "height": 394
        }
      },
      "source": [
        "data.select('*').show(15, truncate=False)"
      ],
      "execution_count": 0,
      "outputs": [
        {
          "output_type": "stream",
          "text": [
            "+-----------------------+-----------------------+------------------------------------------------------------------------------+----+\n",
            "|Author                 |Field                  |BookName                                                                      |Year|\n",
            "+-----------------------+-----------------------+------------------------------------------------------------------------------+----+\n",
            "|Jurgen Annevelink      |Modern Database Systems|Object SQL - A Language for the Design and Implementation of Object Databases.|1995|\n",
            "|Rafiul Ahad            |Modern Database Systems|Object SQL - A Language for the Design and Implementation of Object Databases.|1995|\n",
            "|Amelia Carlson         |Modern Database Systems|Object SQL - A Language for the Design and Implementation of Object Databases.|1995|\n",
            "|Daniel H. Fishman      |Modern Database Systems|Object SQL - A Language for the Design and Implementation of Object Databases.|1995|\n",
            "|Michael L. Heytens     |Modern Database Systems|Object SQL - A Language for the Design and Implementation of Object Databases.|1995|\n",
            "|William Kent           |Modern Database Systems|Object SQL - A Language for the Design and Implementation of Object Databases.|1995|\n",
            "|Jos A. Blakeley        |Modern Database Systems|OQL[C++]: Extending C++ with an Object Query Capability.                      |1995|\n",
            "|Yuri Breitbart         |Modern Database Systems|Transaction Management in Multidatabase Systems.                              |1995|\n",
            "|Hector Garcia-Molina   |Modern Database Systems|Transaction Management in Multidatabase Systems.                              |1995|\n",
            "|Abraham Silberschatz   |Modern Database Systems|Transaction Management in Multidatabase Systems.                              |1995|\n",
            "|Stavros Christodoulakis|Modern Database Systems|Multimedia Information Systems: Issues and Approaches.                        |1995|\n",
            "|Leonidas Koveos        |Modern Database Systems|Multimedia Information Systems: Issues and Approaches.                        |1995|\n",
            "|Umeshwar Dayal         |Modern Database Systems|Active Database Systems.                                                      |1995|\n",
            "|Eric N. Hanson         |Modern Database Systems|Active Database Systems.                                                      |1995|\n",
            "|Jennifer Widom         |Modern Database Systems|Active Database Systems.                                                      |1995|\n",
            "+-----------------------+-----------------------+------------------------------------------------------------------------------+----+\n",
            "only showing top 15 rows\n",
            "\n"
          ],
          "name": "stdout"
        }
      ]
    },
    {
      "cell_type": "code",
      "metadata": {
        "id": "v5bVcSpEEtsm",
        "colab_type": "code",
        "outputId": "99bcc45b-3c9b-438e-972a-40850dcb8791",
        "colab": {
          "base_uri": "https://localhost:8080/",
          "height": 187
        }
      },
      "source": [
        "data.describe(['Year']).show()"
      ],
      "execution_count": 0,
      "outputs": [
        {
          "output_type": "stream",
          "text": [
            "+-------+------------------+\n",
            "|summary|              Year|\n",
            "+-------+------------------+\n",
            "|  count|           2225362|\n",
            "|   mean|2002.8766793896903|\n",
            "| stddev| 6.021949010636045|\n",
            "|    min|              1959|\n",
            "|    max|              2010|\n",
            "+-------+------------------+\n",
            "\n"
          ],
          "name": "stdout"
        }
      ]
    },
    {
      "cell_type": "code",
      "metadata": {
        "id": "wMy0t3DsKztl",
        "colab_type": "code",
        "outputId": "bcc5a0dd-7da9-42fe-f67c-223f7ac5a6ef",
        "colab": {
          "base_uri": "https://localhost:8080/",
          "height": 102
        }
      },
      "source": [
        "cond = data.Year == '' \n",
        "data.filter(cond).select('*').show(20, truncate=False)"
      ],
      "execution_count": 0,
      "outputs": [
        {
          "output_type": "stream",
          "text": [
            "+------+-----+--------+----+\n",
            "|Author|Field|BookName|Year|\n",
            "+------+-----+--------+----+\n",
            "+------+-----+--------+----+\n",
            "\n"
          ],
          "name": "stdout"
        }
      ]
    },
    {
      "cell_type": "code",
      "metadata": {
        "id": "-XuXAtm0Kz5U",
        "colab_type": "code",
        "outputId": "9d59e67c-a4cd-401a-d125-0347793f6e6d",
        "colab": {
          "base_uri": "https://localhost:8080/",
          "height": 34
        }
      },
      "source": [
        "from pyspark.sql.functions import col\n",
        "notNulYearCount = data.withColumn(\"is_year_null\",  col(\"Year\").isNull()).filter(col('is_year_null') == False).count()\n",
        "\n",
        "nulYearCount = data.withColumn(\"is_year_null\",  col(\"Year\").isNull()).filter(col('is_year_null') == True).count()\n",
        "\n",
        "nulAuthorCount = data.withColumn(\"is_author_null\",  col(\"Author\").isNull()).filter(col('is_author_null') == True).count()\n",
        "\n",
        "nulBookNameCount = data.withColumn(\"is_BookName_null\",  col(\"BookName\").isNull()).filter(col('is_BookName_null') == True).count()\n",
        "\n",
        "nulFieldCount = data.withColumn(\"is_Field_null\",  col(\"Field\").isNull()).filter(col('is_Field_null') == True).count()\n",
        "\n",
        "nulYearCount, nulAuthorCount, nulBookNameCount, nulFieldCount"
      ],
      "execution_count": 0,
      "outputs": [
        {
          "output_type": "execute_result",
          "data": {
            "text/plain": [
              "(8, 0, 0, 0)"
            ]
          },
          "metadata": {
            "tags": []
          },
          "execution_count": 104
        }
      ]
    },
    {
      "cell_type": "code",
      "metadata": {
        "id": "Dz7dtLT_K0An",
        "colab_type": "code",
        "outputId": "00c34e10-c1d6-464b-8e2f-fc24236914fa",
        "colab": {
          "base_uri": "https://localhost:8080/",
          "height": 34
        }
      },
      "source": [
        "(data.count() - notNulYearCount)"
      ],
      "execution_count": 0,
      "outputs": [
        {
          "output_type": "execute_result",
          "data": {
            "text/plain": [
              "2225362"
            ]
          },
          "metadata": {
            "tags": []
          },
          "execution_count": 101
        }
      ]
    },
    {
      "cell_type": "code",
      "metadata": {
        "id": "SQjvWFY0K0Hi",
        "colab_type": "code",
        "outputId": "4f7bf6b3-9128-40c7-b786-04be2afac0a0",
        "colab": {
          "base_uri": "https://localhost:8080/",
          "height": 374
        }
      },
      "source": [
        "yearsCount = data.groupBy(\"Year\").count().sort(col(\"Year\"))\n",
        "yearsCount.show(15)"
      ],
      "execution_count": 0,
      "outputs": [
        {
          "output_type": "stream",
          "text": [
            "+----+-----+\n",
            "|Year|count|\n",
            "+----+-----+\n",
            "|null|    8|\n",
            "|1959|  123|\n",
            "|1960|   10|\n",
            "|1961|   38|\n",
            "|1962|  204|\n",
            "|1963|   16|\n",
            "|1964|   33|\n",
            "|1965|   52|\n",
            "|1966|   44|\n",
            "|1967|   59|\n",
            "|1968|  562|\n",
            "|1969|  191|\n",
            "|1970|  170|\n",
            "|1971|  719|\n",
            "|1972|  257|\n",
            "+----+-----+\n",
            "only showing top 15 rows\n",
            "\n"
          ],
          "name": "stdout"
        }
      ]
    },
    {
      "cell_type": "code",
      "metadata": {
        "id": "ps9eZJ6kK0OY",
        "colab_type": "code",
        "colab": {}
      },
      "source": [
        "arr = list(range(1,10))\n",
        "rd = spark.sparkContext.parallelize(arr)\n"
      ],
      "execution_count": 0,
      "outputs": []
    },
    {
      "cell_type": "code",
      "metadata": {
        "id": "hkPIBMSwK0bk",
        "colab_type": "code",
        "outputId": "f43d8a26-3dd6-4485-a3de-22274cd427ee",
        "colab": {
          "base_uri": "https://localhost:8080/",
          "height": 51
        }
      },
      "source": [
        "def factoriel(number):\n",
        "  if number <= 1:\n",
        "    return 1\n",
        "  else:\n",
        "    return number*factoriel(number-1)\n",
        "\n",
        "rdd_fact = rd.map(factoriel)\n",
        "\n",
        "sum = rdd_fact.reduce(lambda x,y: x+y)\n",
        "\n",
        "# count = rdd_fact.reduce(lambda x,y: x[1]+y[1])\n",
        "\n",
        "count = rdd_fact.count()\n",
        "print(sum/count)\n",
        "\n",
        "rdd_fact.take(10)\n",
        "\n",
        "# rdd_fact.reduce(lambda x,y: x+y)\n",
        "\n",
        "\n"
      ],
      "execution_count": 0,
      "outputs": [
        {
          "output_type": "stream",
          "text": [
            "45457.0\n"
          ],
          "name": "stdout"
        },
        {
          "output_type": "execute_result",
          "data": {
            "text/plain": [
              "[1, 2, 6, 24, 120, 720, 5040, 40320, 362880]"
            ]
          },
          "metadata": {
            "tags": []
          },
          "execution_count": 24
        }
      ]
    }
  ]
}